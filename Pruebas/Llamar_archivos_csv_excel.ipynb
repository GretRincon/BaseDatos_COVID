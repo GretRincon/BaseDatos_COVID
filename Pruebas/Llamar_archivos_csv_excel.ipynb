{
  "nbformat": 4,
  "nbformat_minor": 0,
  "metadata": {
    "colab": {
      "name": "Llamar archivos csv_excel.ipynb",
      "provenance": [],
      "authorship_tag": "ABX9TyO1R4BYGtTD7jbiijVMMoZI",
      "include_colab_link": true
    },
    "kernelspec": {
      "name": "python3",
      "display_name": "Python 3"
    }
  },
  "cells": [
    {
      "cell_type": "markdown",
      "metadata": {
        "id": "view-in-github",
        "colab_type": "text"
      },
      "source": [
        "<a href=\"https://colab.research.google.com/github/GretRincon/BaseDatos_COVID/blob/master/Pruebas/Llamar_archivos_csv_excel.ipynb\" target=\"_parent\"><img src=\"https://colab.research.google.com/assets/colab-badge.svg\" alt=\"Open In Colab\"/></a>"
      ]
    },
    {
      "cell_type": "code",
      "metadata": {
        "id": "fTZ4YNoRIvZ2",
        "colab_type": "code",
        "colab": {}
      },
      "source": [
        "import pandas as pd\n",
        "#Importar un archivo csv de github. Este era un archivo excel guardado como csv\n",
        "data = pd.read_csv('https://github.com/GretRincon/Series-Python/blob/master/DatosPruebaMexico.csv')\n",
        "data.head()"
      ],
      "execution_count": null,
      "outputs": []
    },
    {
      "cell_type": "code",
      "metadata": {
        "id": "HifxZKqhNN6H",
        "colab_type": "code",
        "colab": {}
      },
      "source": [
        "import pandas as pd\n",
        "#Importar un archivo creado originalmente en un bloc de notas guardado como csv\n",
        "data = pd.read_csv('https://github.com/GretRincon/Series-Python/blob/master/Pruebadataset.csv')\n",
        "data.head()"
      ],
      "execution_count": null,
      "outputs": []
    },
    {
      "cell_type": "code",
      "metadata": {
        "id": "YFe3CrX7N13F",
        "colab_type": "code",
        "colab": {}
      },
      "source": [
        "import pandas as pd\n",
        "#Ingresar a un archivo de Excel, dentro de la misma carpeta donde corre python\n",
        "data3=pd.ExcelFile('Nombre.xls)\n",
        "#Imprime solo el nombre de cadahoja de cálculo\n",
        "print(data3.sheet_names)\n",
        "#Convierte a dataframe\n",
        "dataframe=data3.parse('Hoja 1')"
      ],
      "execution_count": null,
      "outputs": []
    }
  ]
}