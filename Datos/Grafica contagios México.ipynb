{
 "cells": [
  {
   "cell_type": "markdown",
   "metadata": {},
   "source": [
    "# Grafica de dispersión contagios COVID en México"
   ]
  },
  {
   "cell_type": "code",
   "execution_count": null,
   "metadata": {},
   "outputs": [],
   "source": [
    "import matplotlib.pyplot as plt\n",
    "import pandas as pd\n",
    "import numpy as np"
   ]
  },
  {
   "cell_type": "code",
   "execution_count": null,
   "metadata": {},
   "outputs": [],
   "source": [
    "datosmexico=pd.read_csv('Datos_Mexico.csv')"
   ]
  },
  {
   "cell_type": "markdown",
   "metadata": {},
   "source": [
    "Fuente: https://www.gob.mx/salud/documentos/informacion-internacional-y-nacional-sobre-nuevo-coronavirus-2019-ncov"
   ]
  },
  {
   "cell_type": "code",
   "execution_count": 5,
   "metadata": {},
   "outputs": [
    {
     "data": {
      "text/plain": [
       "Text(0, 0.5, 'Contagios por día')"
      ]
     },
     "execution_count": 5,
     "metadata": {},
     "output_type": "execute_result"
    },
    {
     "data": {
      "image/png": "[encoded data removed]",
      "text/plain": [
       "<Figure size 432x288 with 1 Axes>"
      ]
     },
     "metadata": {
      "needs_background": "light"
     },
     "output_type": "display_data"
    }
   ],
   "source": [
    "\n",
    "x=np.linspace(0,115,115)\n",
    "y=datosmexico['Contagios por dia']\n",
    "\n",
    "plt.scatter(x,y,c='#09698D')\n",
    "plt.grid()\n",
    "plt.xlabel(\"Días\")     \n",
    "plt.ylabel(\"Contagios por día\")\n",
    "\n"
   ]
  },
  {
   "cell_type": "markdown",
   "metadata": {},
   "source": [
    "Reducimos el rango de nuestros datos pues aún no llegamos a un pico en méxico\n",
    "Quedará apartir del día 80"
   ]
  },
  {
   "cell_type": "code",
   "execution_count": 39,
   "metadata": {},
   "outputs": [
    {
     "data": {
      "text/html": [
       "<div>\n",
       "<style scoped>\n",
       "    .dataframe tbody tr th:only-of-type {\n",
       "        vertical-align: middle;\n",
       "    }\n",
       "\n",
       "    .dataframe tbody tr th {\n",
       "        vertical-align: top;\n",
       "    }\n",
       "\n",
       "    .dataframe thead th {\n",
       "        text-align: right;\n",
       "    }\n",
       "</style>\n",
       "<table border=\"1\" class=\"dataframe\">\n",
       "  <thead>\n",
       "    <tr style=\"text-align: right;\">\n",
       "      <th></th>\n",
       "      <th>Dia</th>\n",
       "      <th>Contagios</th>\n",
       "      <th>Contagios por dia</th>\n",
       "      <th>Muertos</th>\n",
       "      <th>Fecha</th>\n",
       "    </tr>\n",
       "  </thead>\n",
       "  <tbody>\n",
       "    <tr>\n",
       "      <th>80</th>\n",
       "      <td>81</td>\n",
       "      <td>51633</td>\n",
       "      <td>2414</td>\n",
       "      <td>5332</td>\n",
       "      <td>2020-05-18</td>\n",
       "    </tr>\n",
       "    <tr>\n",
       "      <th>81</th>\n",
       "      <td>82</td>\n",
       "      <td>54346</td>\n",
       "      <td>2713</td>\n",
       "      <td>5666</td>\n",
       "      <td>2020-05-19</td>\n",
       "    </tr>\n",
       "    <tr>\n",
       "      <th>82</th>\n",
       "      <td>83</td>\n",
       "      <td>56594</td>\n",
       "      <td>2248</td>\n",
       "      <td>6090</td>\n",
       "      <td>2020-05-20</td>\n",
       "    </tr>\n",
       "    <tr>\n",
       "      <th>83</th>\n",
       "      <td>84</td>\n",
       "      <td>59567</td>\n",
       "      <td>2973</td>\n",
       "      <td>6510</td>\n",
       "      <td>2020-05-21</td>\n",
       "    </tr>\n",
       "    <tr>\n",
       "      <th>84</th>\n",
       "      <td>85</td>\n",
       "      <td>62527</td>\n",
       "      <td>2960</td>\n",
       "      <td>6989</td>\n",
       "      <td>2020-05-22</td>\n",
       "    </tr>\n",
       "    <tr>\n",
       "      <th>85</th>\n",
       "      <td>86</td>\n",
       "      <td>65856</td>\n",
       "      <td>3329</td>\n",
       "      <td>7189</td>\n",
       "      <td>2020-05-23</td>\n",
       "    </tr>\n",
       "    <tr>\n",
       "      <th>86</th>\n",
       "      <td>87</td>\n",
       "      <td>68620</td>\n",
       "      <td>2764</td>\n",
       "      <td>7394</td>\n",
       "      <td>2020-05-24</td>\n",
       "    </tr>\n",
       "    <tr>\n",
       "      <th>87</th>\n",
       "      <td>88</td>\n",
       "      <td>71105</td>\n",
       "      <td>2485</td>\n",
       "      <td>7633</td>\n",
       "      <td>2020-05-25</td>\n",
       "    </tr>\n",
       "    <tr>\n",
       "      <th>88</th>\n",
       "      <td>89</td>\n",
       "      <td>74560</td>\n",
       "      <td>3455</td>\n",
       "      <td>8134</td>\n",
       "      <td>2020-05-26</td>\n",
       "    </tr>\n",
       "    <tr>\n",
       "      <th>89</th>\n",
       "      <td>90</td>\n",
       "      <td>78023</td>\n",
       "      <td>3463</td>\n",
       "      <td>8597</td>\n",
       "      <td>2020-05-27</td>\n",
       "    </tr>\n",
       "    <tr>\n",
       "      <th>90</th>\n",
       "      <td>91</td>\n",
       "      <td>81400</td>\n",
       "      <td>3377</td>\n",
       "      <td>9044</td>\n",
       "      <td>2020-05-28</td>\n",
       "    </tr>\n",
       "    <tr>\n",
       "      <th>91</th>\n",
       "      <td>92</td>\n",
       "      <td>84627</td>\n",
       "      <td>3227</td>\n",
       "      <td>9415</td>\n",
       "      <td>2020-05-29</td>\n",
       "    </tr>\n",
       "    <tr>\n",
       "      <th>92</th>\n",
       "      <td>93</td>\n",
       "      <td>87512</td>\n",
       "      <td>2885</td>\n",
       "      <td>9779</td>\n",
       "      <td>2020-05-30</td>\n",
       "    </tr>\n",
       "    <tr>\n",
       "      <th>93</th>\n",
       "      <td>94</td>\n",
       "      <td>90664</td>\n",
       "      <td>3152</td>\n",
       "      <td>9930</td>\n",
       "      <td>2020-05-31</td>\n",
       "    </tr>\n",
       "    <tr>\n",
       "      <th>94</th>\n",
       "      <td>95</td>\n",
       "      <td>93435</td>\n",
       "      <td>2771</td>\n",
       "      <td>10167</td>\n",
       "      <td>2020-06-01</td>\n",
       "    </tr>\n",
       "    <tr>\n",
       "      <th>95</th>\n",
       "      <td>96</td>\n",
       "      <td>97326</td>\n",
       "      <td>3891</td>\n",
       "      <td>10637</td>\n",
       "      <td>2020-06-02</td>\n",
       "    </tr>\n",
       "    <tr>\n",
       "      <th>96</th>\n",
       "      <td>97</td>\n",
       "      <td>101238</td>\n",
       "      <td>3912</td>\n",
       "      <td>11729</td>\n",
       "      <td>2020-06-03</td>\n",
       "    </tr>\n",
       "    <tr>\n",
       "      <th>97</th>\n",
       "      <td>98</td>\n",
       "      <td>105680</td>\n",
       "      <td>4442</td>\n",
       "      <td>12545</td>\n",
       "      <td>2020-06-04</td>\n",
       "    </tr>\n",
       "    <tr>\n",
       "      <th>98</th>\n",
       "      <td>99</td>\n",
       "      <td>110026</td>\n",
       "      <td>4346</td>\n",
       "      <td>13170</td>\n",
       "      <td>2020-06-05</td>\n",
       "    </tr>\n",
       "    <tr>\n",
       "      <th>99</th>\n",
       "      <td>100</td>\n",
       "      <td>113619</td>\n",
       "      <td>3593</td>\n",
       "      <td>13511</td>\n",
       "      <td>2020-06-06</td>\n",
       "    </tr>\n",
       "    <tr>\n",
       "      <th>100</th>\n",
       "      <td>101</td>\n",
       "      <td>117103</td>\n",
       "      <td>3484</td>\n",
       "      <td>13699</td>\n",
       "      <td>2020-06-07</td>\n",
       "    </tr>\n",
       "    <tr>\n",
       "      <th>101</th>\n",
       "      <td>102</td>\n",
       "      <td>120102</td>\n",
       "      <td>2999</td>\n",
       "      <td>14053</td>\n",
       "      <td>2020-06-08</td>\n",
       "    </tr>\n",
       "    <tr>\n",
       "      <th>102</th>\n",
       "      <td>103</td>\n",
       "      <td>124301</td>\n",
       "      <td>4199</td>\n",
       "      <td>14649</td>\n",
       "      <td>2020-06-09</td>\n",
       "    </tr>\n",
       "    <tr>\n",
       "      <th>103</th>\n",
       "      <td>104</td>\n",
       "      <td>129184</td>\n",
       "      <td>4883</td>\n",
       "      <td>15357</td>\n",
       "      <td>2020-06-10</td>\n",
       "    </tr>\n",
       "    <tr>\n",
       "      <th>104</th>\n",
       "      <td>105</td>\n",
       "      <td>133974</td>\n",
       "      <td>4790</td>\n",
       "      <td>15944</td>\n",
       "      <td>2020-06-11</td>\n",
       "    </tr>\n",
       "    <tr>\n",
       "      <th>105</th>\n",
       "      <td>106</td>\n",
       "      <td>139196</td>\n",
       "      <td>5222</td>\n",
       "      <td>16448</td>\n",
       "      <td>2020-06-12</td>\n",
       "    </tr>\n",
       "    <tr>\n",
       "      <th>106</th>\n",
       "      <td>107</td>\n",
       "      <td>142690</td>\n",
       "      <td>3494</td>\n",
       "      <td>16872</td>\n",
       "      <td>2020-06-13</td>\n",
       "    </tr>\n",
       "    <tr>\n",
       "      <th>107</th>\n",
       "      <td>108</td>\n",
       "      <td>146837</td>\n",
       "      <td>4147</td>\n",
       "      <td>17141</td>\n",
       "      <td>2020-06-14</td>\n",
       "    </tr>\n",
       "    <tr>\n",
       "      <th>108</th>\n",
       "      <td>109</td>\n",
       "      <td>150256</td>\n",
       "      <td>3419</td>\n",
       "      <td>17580</td>\n",
       "      <td>2020-06-15</td>\n",
       "    </tr>\n",
       "    <tr>\n",
       "      <th>109</th>\n",
       "      <td>110</td>\n",
       "      <td>154863</td>\n",
       "      <td>4607</td>\n",
       "      <td>18310</td>\n",
       "      <td>2020-06-16</td>\n",
       "    </tr>\n",
       "    <tr>\n",
       "      <th>110</th>\n",
       "      <td>111</td>\n",
       "      <td>159793</td>\n",
       "      <td>4930</td>\n",
       "      <td>19080</td>\n",
       "      <td>2020-06-17</td>\n",
       "    </tr>\n",
       "    <tr>\n",
       "      <th>111</th>\n",
       "      <td>112</td>\n",
       "      <td>165455</td>\n",
       "      <td>5662</td>\n",
       "      <td>19747</td>\n",
       "      <td>2020-06-18</td>\n",
       "    </tr>\n",
       "    <tr>\n",
       "      <th>112</th>\n",
       "      <td>113</td>\n",
       "      <td>170485</td>\n",
       "      <td>5030</td>\n",
       "      <td>20394</td>\n",
       "      <td>2020-06-19</td>\n",
       "    </tr>\n",
       "    <tr>\n",
       "      <th>113</th>\n",
       "      <td>114</td>\n",
       "      <td>175202</td>\n",
       "      <td>4717</td>\n",
       "      <td>20781</td>\n",
       "      <td>2020-06-20</td>\n",
       "    </tr>\n",
       "    <tr>\n",
       "      <th>114</th>\n",
       "      <td>115</td>\n",
       "      <td>180545</td>\n",
       "      <td>5343</td>\n",
       "      <td>21825</td>\n",
       "      <td>2020-06-21</td>\n",
       "    </tr>\n",
       "  </tbody>\n",
       "</table>\n",
       "</div>"
      ],
      "text/plain": [
       "     Dia  Contagios  Contagios por dia  Muertos       Fecha\n",
       "80    81      51633               2414     5332  2020-05-18\n",
       "81    82      54346               2713     5666  2020-05-19\n",
       "82    83      56594               2248     6090  2020-05-20\n",
       "83    84      59567               2973     6510  2020-05-21\n",
       "84    85      62527               2960     6989  2020-05-22\n",
       "85    86      65856               3329     7189  2020-05-23\n",
       "86    87      68620               2764     7394  2020-05-24\n",
       "87    88      71105               2485     7633  2020-05-25\n",
       "88    89      74560               3455     8134  2020-05-26\n",
       "89    90      78023               3463     8597  2020-05-27\n",
       "90    91      81400               3377     9044  2020-05-28\n",
       "91    92      84627               3227     9415  2020-05-29\n",
       "92    93      87512               2885     9779  2020-05-30\n",
       "93    94      90664               3152     9930  2020-05-31\n",
       "94    95      93435               2771    10167  2020-06-01\n",
       "95    96      97326               3891    10637  2020-06-02\n",
       "96    97     101238               3912    11729  2020-06-03\n",
       "97    98     105680               4442    12545  2020-06-04\n",
       "98    99     110026               4346    13170  2020-06-05\n",
       "99   100     113619               3593    13511  2020-06-06\n",
       "100  101     117103               3484    13699  2020-06-07\n",
       "101  102     120102               2999    14053  2020-06-08\n",
       "102  103     124301               4199    14649  2020-06-09\n",
       "103  104     129184               4883    15357  2020-06-10\n",
       "104  105     133974               4790    15944  2020-06-11\n",
       "105  106     139196               5222    16448  2020-06-12\n",
       "106  107     142690               3494    16872  2020-06-13\n",
       "107  108     146837               4147    17141  2020-06-14\n",
       "108  109     150256               3419    17580  2020-06-15\n",
       "109  110     154863               4607    18310  2020-06-16\n",
       "110  111     159793               4930    19080  2020-06-17\n",
       "111  112     165455               5662    19747  2020-06-18\n",
       "112  113     170485               5030    20394  2020-06-19\n",
       "113  114     175202               4717    20781  2020-06-20\n",
       "114  115     180545               5343    21825  2020-06-21"
      ]
     },
     "execution_count": 39,
     "metadata": {},
     "output_type": "execute_result"
    }
   ],
   "source": [
    "datosmexicoR=datosmexico.iloc[80:115]\n",
    "datosmexicoR"
   ]
  },
  {
   "cell_type": "code",
   "execution_count": 40,
   "metadata": {},
   "outputs": [
    {
     "data": {
      "text/plain": [
       "Text(0, 0.5, 'Contagios por día')"
      ]
     },
     "execution_count": 40,
     "metadata": {},
     "output_type": "execute_result"
    },
    {
     "data": {
      "image/png": "[encoded data removed]",
      "text/plain": [
       "<Figure size 432x288 with 1 Axes>"
      ]
     },
     "metadata": {
      "needs_background": "light"
     },
     "output_type": "display_data"
    }
   ],
   "source": [
    "x=datosmexicoR['Dia']\n",
    "y=datosmexicoR['Contagios por dia']\n",
    "\n",
    "plt.scatter(x,y,c='#09698D')\n",
    "plt.grid()\n",
    "plt.xlabel(\"Días\")     \n",
    "plt.ylabel(\"Contagios por día\")\n"
   ]
  },
  {
   "cell_type": "markdown",
   "metadata": {},
   "source": [
    "Graficaremos solo los contagios por ía en distintos rangos para ver mas detalladamente la evolución"
   ]
  },
  {
   "cell_type": "code",
   "execution_count": 67,
   "metadata": {},
   "outputs": [
    {
     "data": {
      "text/plain": [
       "<matplotlib.axes._subplots.AxesSubplot at 0x54ed84c2c8>"
      ]
     },
     "execution_count": 67,
     "metadata": {},
     "output_type": "execute_result"
    },
    {
     "data": {
      "image/png": "[encoded data removed]",
      "text/plain": [
       "<Figure size 432x288 with 1 Axes>"
      ]
     },
     "metadata": {
      "needs_background": "light"
     },
     "output_type": "display_data"
    }
   ],
   "source": [
    "datosmexicoHT=datosmexico.loc[50:115,'Contagios por dia']\n",
    "datosmexicoHT.hist(bin=10)"
   ]
  },
  {
   "cell_type": "code",
   "execution_count": 70,
   "metadata": {},
   "outputs": [
    {
     "data": {
      "text/plain": [
       "<matplotlib.axes._subplots.AxesSubplot at 0x54ed9e7748>"
      ]
     },
     "execution_count": 70,
     "metadata": {},
     "output_type": "execute_result"
    },
    {
     "data": {
      "image/png": "[encoded data removed]",
      "text/plain": [
       "<Figure size 432x288 with 1 Axes>"
      ]
     },
     "metadata": {
      "needs_background": "light"
     },
     "output_type": "display_data"
    }
   ],
   "source": [
    "datosmexicoHT=datosmexico.loc[70:115,'Contagios por dia']\n",
    "datosmexicoHT.hist(bins=10)"
   ]
  },
  {
   "cell_type": "code",
   "execution_count": 41,
   "metadata": {},
   "outputs": [
    {
     "data": {
      "text/plain": [
       "<matplotlib.axes._subplots.AxesSubplot at 0x54eb92ac88>"
      ]
     },
     "execution_count": 41,
     "metadata": {},
     "output_type": "execute_result"
    },
    {
     "data": {
      "image/png": "[encoded data removed]",
      "text/plain": [
       "<Figure size 432x288 with 1 Axes>"
      ]
     },
     "metadata": {
      "needs_background": "light"
     },
     "output_type": "display_data"
    }
   ],
   "source": [
    "datosmexicoH=datosmexico.loc[80:115,'Contagios por dia']\n",
    "datosmexicoH.hist(bins=7)"
   ]
  },
  {
   "cell_type": "markdown",
   "metadata": {},
   "source": [
    "Podemos observar una distribucion anormal, de dos picos, al omitir los primeros casos donde los casos no eran abundantes"
   ]
  }
 ],
 "metadata": {
  "kernelspec": {
   "display_name": "Python 3",
   "language": "python",
   "name": "python3"
  },
  "language_info": {
   "codemirror_mode": {
    "name": "ipython",
    "version": 3
   },
   "file_extension": ".py",
   "mimetype": "text/x-python",
   "name": "python",
   "nbconvert_exporter": "python",
   "pygments_lexer": "ipython3",
   "version": "3.7.6"
  }
 },
 "nbformat": 4,
 "nbformat_minor": 4
}
